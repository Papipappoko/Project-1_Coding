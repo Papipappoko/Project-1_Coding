{
  "nbformat": 4,
  "nbformat_minor": 0,
  "metadata": {
    "colab": {
      "provenance": [],
      "include_colab_link": true
    },
    "kernelspec": {
      "name": "python3",
      "display_name": "Python 3"
    },
    "language_info": {
      "name": "python"
    }
  },
  "cells": [
    {
      "cell_type": "markdown",
      "metadata": {
        "id": "view-in-github",
        "colab_type": "text"
      },
      "source": [
        "<a href=\"https://colab.research.google.com/github/Papipappoko/Project-1_Coding/blob/main/5_Q.ipynb\" target=\"_parent\"><img src=\"https://colab.research.google.com/assets/colab-badge.svg\" alt=\"Open In Colab\"/></a>"
      ]
    },
    {
      "cell_type": "markdown",
      "source": [
        "# 5 คิว วัชรพงศ์ เมธาวิชิต\n",
        "No.5 Q  Watcharapong Metawichit"
      ],
      "metadata": {
        "id": "WvqFLeSOb9g_"
      }
    },
    {
      "cell_type": "markdown",
      "source": [
        "20 พฤษภาคม 2567\n",
        "\n",
        "*   เรียนรู้คำสั่ง \"print\" เพื่อทักทายเพื่อน ๆ ในชั้นเรียน\n",
        "*   รู้ว่าคำสั่ง interger และ float คืออะไร"
      ],
      "metadata": {
        "id": "Dfm7P1pf_PDW"
      }
    },
    {
      "cell_type": "code",
      "source": [
        "print('อาโหล สวัสดีจ้า ชื่อคิวนะครับ')"
      ],
      "metadata": {
        "colab": {
          "base_uri": "https://localhost:8080/"
        },
        "id": "KRpj-m4L92lv",
        "outputId": "babfc385-70ca-4350-d401-1fe81da1d15c"
      },
      "execution_count": null,
      "outputs": [
        {
          "output_type": "stream",
          "name": "stdout",
          "text": [
            "อาโหล สวัสดีจ้า ชื่อคิวนะครับ\n"
          ]
        }
      ]
    },
    {
      "cell_type": "code",
      "source": [
        "print(\"Merry X'Mas\")"
      ],
      "metadata": {
        "id": "WlD9PCJLLavH",
        "outputId": "04f8d195-302e-4795-d634-e9cd6519459b",
        "colab": {
          "base_uri": "https://localhost:8080/"
        }
      },
      "execution_count": null,
      "outputs": [
        {
          "output_type": "stream",
          "name": "stdout",
          "text": [
            "Merry X'Mas\n"
          ]
        }
      ]
    },
    {
      "cell_type": "code",
      "source": [
        "print(\"I want to ask you \\\"Why don't you drive to work ? \\\"\")"
      ],
      "metadata": {
        "colab": {
          "base_uri": "https://localhost:8080/"
        },
        "id": "R05hJqmSFHrb",
        "outputId": "43aa354d-05dc-465e-9579-3eb97a9731ba"
      },
      "execution_count": null,
      "outputs": [
        {
          "output_type": "stream",
          "name": "stdout",
          "text": [
            "I want to ask you \"Why don't you drive to work ? \"\n"
          ]
        }
      ]
    },
    {
      "cell_type": "markdown",
      "source": [
        "29 พฤษภาคม 2567\n",
        "\n",
        "*  เรื่องของตัวแปรว่าควรใช้เป็นคำที่เหมาะสมกับข้อมูลที่ควรจะเก็บ\n",
        "*  ตัวแปรห้ามขึ้นต้นด้วยเลข และห้ามใช้ภาษาไทย\n",
        "*  สามารถใช้คำสั่ง type() แล้วใส่ตัวแปรในวงเล็บจะทราบชนิดของตัวแปร\n",
        "*  Point point เป็นตัวแปรคนละตัวกันเพราะตัวอักษรข้างหน้าเป็นพิมพ์ใหญ่กับพิมพ์เล็ก"
      ],
      "metadata": {
        "id": "E4C2quGWZLhE"
      }
    },
    {
      "cell_type": "code",
      "source": [
        "a = 2\n",
        "b = 1.5\n",
        "c = \"Q\"\n",
        "\n",
        "type(c)\n",
        "print(\"Nickname\")"
      ],
      "metadata": {
        "colab": {
          "base_uri": "https://localhost:8080/"
        },
        "id": "LpEhU0sRZSsT",
        "outputId": "ada4a06e-a1b7-4818-8adf-f5cc4fdfb77c"
      },
      "execution_count": null,
      "outputs": [
        {
          "output_type": "stream",
          "name": "stdout",
          "text": [
            "Nickname\n"
          ]
        }
      ]
    },
    {
      "cell_type": "code",
      "source": [
        "numeric1 = 5\n",
        "\n",
        "print(numeric1)\n",
        "type(numeric1)"
      ],
      "metadata": {
        "colab": {
          "base_uri": "https://localhost:8080/"
        },
        "id": "aMRkZlBzkyz7",
        "outputId": "c519f95a-5a02-460d-c144-11c9173e6612"
      },
      "execution_count": null,
      "outputs": [
        {
          "output_type": "stream",
          "name": "stdout",
          "text": [
            "5\n"
          ]
        },
        {
          "output_type": "execute_result",
          "data": {
            "text/plain": [
              "int"
            ]
          },
          "metadata": {},
          "execution_count": 19
        }
      ]
    },
    {
      "cell_type": "code",
      "source": [
        "string1 = 'Python'\n",
        "print(string1[0])"
      ],
      "metadata": {
        "colab": {
          "base_uri": "https://localhost:8080/"
        },
        "id": "iKTysgWXYYOW",
        "outputId": "78da32df-c550-4c48-b1a9-cec96dad3cba"
      },
      "execution_count": null,
      "outputs": [
        {
          "output_type": "stream",
          "name": "stdout",
          "text": [
            "P\n"
          ]
        }
      ]
    },
    {
      "cell_type": "markdown",
      "source": [
        "5 มิถุนายน 2567\n",
        "\n",
        "*   ได้ทราบว่าคำสั่ง bool มีค่าแค่ 2 แบบ คือ True และ False\n",
        "*   ได้ทราบว่าคำสั่ง complex คือจำนวนเชิงซ้อน\n",
        "*   ถ้าต้องการแสดงข้อมูลเพียงตัวเดียว จากอักษรทั้งคำสามารถใช้ [] แล้วใส่จำนวนเต็ม โดยตัวอักษรตัวแรกเริ่มจากเลข 0 และเรียงไปเรื่อย ๆ หรือหากต้องการแสดงผลตัวสุดท้ายสามารถใส่ค่า -1 และเรียงไปเรื่อย ๆ\n",
        "\n",
        "input คือ string1 = 'Python' print(string1[0])\n",
        "process คือ เลือกตัวอักษร 1 ตัวตามลำดับเลขที่กำหนด\n",
        "output คือ P"
      ],
      "metadata": {
        "id": "FfKaxr9ZW6v1"
      }
    },
    {
      "cell_type": "code",
      "source": [
        "name = input(\"กรุณากรอกชื่อให้ผมหน่อยครับ: \")\n",
        "print(\"Thank you mak na kub\" ,name)"
      ],
      "metadata": {
        "colab": {
          "base_uri": "https://localhost:8080/"
        },
        "id": "7PQUN3xYvA1n",
        "outputId": "ce59627f-cde9-4331-ae0b-679e4b24ddd2"
      },
      "execution_count": null,
      "outputs": [
        {
          "output_type": "stream",
          "name": "stdout",
          "text": [
            "กรุณากรอกชื่อให้ผมหน่อยครับ: Q\n",
            "Thank you mak na kub Q\n"
          ]
        }
      ]
    },
    {
      "cell_type": "markdown",
      "source": [
        "26 มิถุนายน 2567\n",
        "\n",
        "*   input\n",
        "\n"
      ],
      "metadata": {
        "id": "UN_bC4vbtyMP"
      }
    },
    {
      "cell_type": "code",
      "source": [
        "side = int(input (\"ความยาวด้านของสี่เหลี่ยมจตุรัส(ซม.) \"  ))\n",
        "area = side**2\n",
        "print(\"พื้นที่ของสี่เหลี่ยม คือ\" ,area, \"ตร.ซม.\")\n"
      ],
      "metadata": {
        "id": "UUzzTmK8yyw0"
      },
      "execution_count": null,
      "outputs": []
    },
    {
      "cell_type": "markdown",
      "source": [
        "1/7/2567\n",
        "\n",
        "เงื่อนไขของ BMI\n",
        "ถ้า BMI น้อยกว่า 18.5 แปรผล คือ ต่ำกว่าเกณฑ์ แนะนำให้ทานเยอะกว่านี้หน่อยนะครับ\n",
        "ถ้า BMI เท่ากับ 18.5-22.9 แปรผล คือ สมส่วน ดีมากครับขอให้เป็นแบบนี้ต่อไปนะครับ\n",
        "ถ้า BMI มากกว่า 22.9 แปรผล คือ เกินเกณฑ์ แนะนำให้ทานน้อยลงหน่อยนะครับ"
      ],
      "metadata": {
        "id": "M-hFzbPrhx3R"
      }
    },
    {
      "cell_type": "code",
      "source": [
        "long = int(input (\"ความยาวของสี่เหลี่ยมผืนผ้าซม.) \"  ))\n",
        "length = int(input (\"ความกว้างของสี่เหลี่ยมผืนผ้าซม.) \"  ))\n",
        "area = length*long\n",
        "print(\"พื้นที่ของสี่เหลี่ยม คือ\" ,area, \"ตร.ซม.\")"
      ],
      "metadata": {
        "colab": {
          "base_uri": "https://localhost:8080/"
        },
        "id": "B7UboTMNP2B2",
        "outputId": "f7555c6c-dfab-425c-e1da-05c59050bd75"
      },
      "execution_count": null,
      "outputs": [
        {
          "output_type": "stream",
          "name": "stdout",
          "text": [
            "ความยาวของสี่เหลี่ยมผืนผ้าซม.) 10\n",
            "ความกว้างของสี่เหลี่ยมผืนผ้าซม.) 20\n",
            "พื้นที่ของสี่เหลี่ยม คือ 200 ตร.ซม.\n"
          ]
        }
      ]
    },
    {
      "cell_type": "code",
      "source": [
        "s = int(input (\"ระยะทางที่วัตถุเคลื่อนที่ m : \"  ))\n",
        "t = int(input (\"เวลาที่วัตถุใช้ในการเคลื่อนที่ s : \"  ))\n",
        "V = s/t\n",
        "print(\"ความเร็ว คือ\" ,V, \"m/s\")"
      ],
      "metadata": {
        "colab": {
          "base_uri": "https://localhost:8080/"
        },
        "id": "cDyHZC8TR1qW",
        "outputId": "28d26924-14a7-4b29-eb97-02e5586beeb4"
      },
      "execution_count": null,
      "outputs": [
        {
          "output_type": "stream",
          "name": "stdout",
          "text": [
            "ระยะทางที่วัตถุเคลื่อนที่ m : 12\n",
            "เวลาที่วัตถุใช้ในการเคลื่อนที่ s : 6\n",
            "ความเร็ว คือ 2.0 m/s\n"
          ]
        }
      ]
    },
    {
      "cell_type": "code",
      "source": [
        "print(\"Welcome nakub\")\n",
        "print(\"โปรแกรมวัชนีมวลกาย make by Q naja\")\n",
        "name = input (\"กรอกชื่อให้เราหน่อย อุอิ : \")\n",
        "hight = float(input (\"ส่วนสูง m. : \"  ))\n",
        "weight = float(input (\"น้ำหนัก kg. : \"  ))\n",
        "BMI = weight / (hight **2)\n",
        "\n",
        "print(\"ค่า BMI คือ %.2f\" % BMI)\n"
      ],
      "metadata": {
        "colab": {
          "base_uri": "https://localhost:8080/"
        },
        "id": "yVfqlld1VlDW",
        "outputId": "56f57ab2-ef13-40ec-a0b7-24d63d878a90"
      },
      "execution_count": null,
      "outputs": [
        {
          "output_type": "stream",
          "name": "stdout",
          "text": [
            "Welcome nakub\n",
            "โปรแกรมวัชนีมวลกาย make by Q naja\n",
            "กรอกชื่อให้เราหน่อย อุอิ : Watcharapong\n",
            "ส่วนสูง m. : 1.75\n",
            "น้ำหนัก kg. : 60\n",
            "ค่า BMI คือ 19.59\n"
          ]
        }
      ]
    }
  ]
}